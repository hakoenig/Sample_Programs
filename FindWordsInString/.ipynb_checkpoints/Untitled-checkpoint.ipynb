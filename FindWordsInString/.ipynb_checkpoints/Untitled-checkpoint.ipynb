{
 "cells": [
  {
   "cell_type": "code",
   "execution_count": 1,
   "metadata": {
    "collapsed": true
   },
   "outputs": [],
   "source": [
    "import sys\n",
    "import enchant\n",
    "import wikiwords\n",
    "\n",
    "d = enchant.Dict(\"en_US\")"
   ]
  },
  {
   "cell_type": "code",
   "execution_count": 2,
   "metadata": {
    "collapsed": true
   },
   "outputs": [],
   "source": [
    "def find_words_slicing_from_back(string):\n",
    "    \"\"\"\n",
    "    Finds individual words in string of multiple words that is \n",
    "    missing spaces between words. Does so by reducing string from the back\n",
    "    and checking if resulting string is a word in English dictionary.\n",
    "    \n",
    "    In:\n",
    "        string (str): string that needs to be broken down into words\n",
    "    Out:\n",
    "        string with individual words separated by spaces.\n",
    "    \"\"\"\n",
    "    if not isinstance(string, str):\n",
    "        raise ValueError(\"Not a valid input. Expecting string as input.\")\n",
    "    \n",
    "    list_of_words = []\n",
    "    list_to_skip_is = []\n",
    "    current_string = string\n",
    "    \n",
    "    for i in range(len(string)):\n",
    "        \n",
    "        print(list_of_words)\n",
    "        \n",
    "        is_word = False\n",
    "        \n",
    "        if i in list_to_skip_is:\n",
    "            continue\n",
    "            \n",
    "        current_string = string[i:]\n",
    "        print(current_string)\n",
    "        \n",
    "        if d.check(current_string):\n",
    "            list_to_skip_is = [x for x in range(string.find(current_string) + len(current_string))]\n",
    "            print(list_to_skip_is)\n",
    "            list_of_words.append(current_string)\n",
    "            continue\n",
    "        \n",
    "        while not is_word and len(current_string) > 1:\n",
    "            \n",
    "            current_string = current_string[:-1]\n",
    "            \n",
    "            if d.check(current_string):\n",
    "                list_to_skip_is = [x for x in range(string.find(current_string) + len(current_string))]\n",
    "                list_of_words.append(current_string)\n",
    "                is_word = True\n",
    "\n",
    "    return \" \".join(list_of_words)"
   ]
  },
  {
   "cell_type": "code",
   "execution_count": 3,
   "metadata": {
    "collapsed": false
   },
   "outputs": [
    {
     "name": "stdout",
     "output_type": "stream",
     "text": [
      "thehouseisblue\n",
      "houseisblue\n",
      "isblue\n",
      "blue\n",
      "[0, 1, 2, 3, 4, 5, 6, 7, 8, 9, 10, 11, 12, 13]\n"
     ]
    },
    {
     "data": {
      "text/plain": [
       "'the house is blue'"
      ]
     },
     "execution_count": 3,
     "metadata": {},
     "output_type": "execute_result"
    }
   ],
   "source": [
    "find_words_slicing_from_back(\"thehouseisblue\")"
   ]
  },
  {
   "cell_type": "code",
   "execution_count": null,
   "metadata": {
    "collapsed": true
   },
   "outputs": [],
   "source": []
  }
 ],
 "metadata": {
  "kernelspec": {
   "display_name": "Python [Root]",
   "language": "python",
   "name": "Python [Root]"
  },
  "language_info": {
   "codemirror_mode": {
    "name": "ipython",
    "version": 3
   },
   "file_extension": ".py",
   "mimetype": "text/x-python",
   "name": "python",
   "nbconvert_exporter": "python",
   "pygments_lexer": "ipython3",
   "version": "3.5.2"
  }
 },
 "nbformat": 4,
 "nbformat_minor": 0
}
